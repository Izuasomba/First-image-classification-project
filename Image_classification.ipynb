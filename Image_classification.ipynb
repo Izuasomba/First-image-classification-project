{
  "cells": [
    {
      "cell_type": "code",
      "execution_count": 4,
      "metadata": {
        "id": "7zQT9uLDO9n2"
      },
      "outputs": [],
      "source": [
        "import pandas as pd\n",
        "import numpy as np\n",
        "import matplotlib as mpl\n",
        "import matplotlib.pyplot as plt\n",
        "import tensorflow as tf\n",
        "from tensorflow import keras"
      ]
    },
    {
      "cell_type": "code",
      "execution_count": 5,
      "metadata": {
        "colab": {
          "base_uri": "https://localhost:8080/",
          "height": 35
        },
        "id": "40cBqAIDPQSN",
        "outputId": "c922916c-721a-47d9-8f01-306b0f20e7b6"
      },
      "outputs": [
        {
          "data": {
            "application/vnd.google.colaboratory.intrinsic+json": {
              "type": "string"
            },
            "text/plain": [
              "'2.12.0'"
            ]
          },
          "execution_count": 5,
          "metadata": {},
          "output_type": "execute_result"
        }
      ],
      "source": [
        "tf.__version__"
      ]
    },
    {
      "cell_type": "code",
      "execution_count": 6,
      "metadata": {
        "colab": {
          "base_uri": "https://localhost:8080/",
          "height": 35
        },
        "id": "4UnE1fH_PoB4",
        "outputId": "cd644de3-b7c8-4d84-c5e1-4c2a34db9033"
      },
      "outputs": [
        {
          "data": {
            "application/vnd.google.colaboratory.intrinsic+json": {
              "type": "string"
            },
            "text/plain": [
              "'2.12.0'"
            ]
          },
          "execution_count": 6,
          "metadata": {},
          "output_type": "execute_result"
        }
      ],
      "source": [
        "keras.__version__"
      ]
    },
    {
      "cell_type": "code",
      "execution_count": 7,
      "metadata": {
        "id": "TfyDlicyP5C6"
      },
      "outputs": [],
      "source": [
        "from keras.datasets import fashion_mnist"
      ]
    },
    {
      "cell_type": "code",
      "execution_count": 8,
      "metadata": {
        "colab": {
          "base_uri": "https://localhost:8080/"
        },
        "id": "osUT9A_JQxN4",
        "outputId": "d853188a-2123-45f6-9790-c719dfd15d33"
      },
      "outputs": [
        {
          "name": "stdout",
          "output_type": "stream",
          "text": [
            "Downloading data from https://storage.googleapis.com/tensorflow/tf-keras-datasets/train-labels-idx1-ubyte.gz\n",
            "29515/29515 [==============================] - 0s 1us/step\n",
            "Downloading data from https://storage.googleapis.com/tensorflow/tf-keras-datasets/train-images-idx3-ubyte.gz\n",
            "26421880/26421880 [==============================] - 2s 0us/step\n",
            "Downloading data from https://storage.googleapis.com/tensorflow/tf-keras-datasets/t10k-labels-idx1-ubyte.gz\n",
            "5148/5148 [==============================] - 0s 0us/step\n",
            "Downloading data from https://storage.googleapis.com/tensorflow/tf-keras-datasets/t10k-images-idx3-ubyte.gz\n",
            "4422102/4422102 [==============================] - 1s 0us/step\n"
          ]
        }
      ],
      "source": [
        "fashion_mnist = keras.datasets.fashion_mnist\n",
        "(X_train_full,y_train_full),(X_test,y_test) = fashion_mnist.load_data()"
      ]
    },
    {
      "cell_type": "code",
      "execution_count": 9,
      "metadata": {
        "colab": {
          "base_uri": "https://localhost:8080/",
          "height": 447
        },
        "id": "RMYOWhQ2RHr6",
        "outputId": "248da34b-9b5e-44e5-d14c-e009d5f14f0d"
      },
      "outputs": [
        {
          "data": {
            "text/plain": [
              "<matplotlib.image.AxesImage at 0x7f4cce432650>"
            ]
          },
          "execution_count": 9,
          "metadata": {},
          "output_type": "execute_result"
        },
        {
          "data": {
            "image/png": "[encoded data removed]",
            "text/plain": [
              "<Figure size 640x480 with 1 Axes>"
            ]
          },
          "metadata": {},
          "output_type": "display_data"
        }
      ],
      "source": [
        "plt.imshow(X_train_full[20])"
      ]
    },
    {
      "cell_type": "code",
      "execution_count": 10,
      "metadata": {
        "colab": {
          "base_uri": "https://localhost:8080/"
        },
        "id": "8k6F6vWsRUcX",
        "outputId": "6d47caa2-7b79-4adb-e7a5-50b83ae4496c"
      },
      "outputs": [
        {
          "data": {
            "text/plain": [
              "0"
            ]
          },
          "execution_count": 10,
          "metadata": {},
          "output_type": "execute_result"
        }
      ],
      "source": [
        "y_train_full[1]"
      ]
    },
    {
      "cell_type": "code",
      "execution_count": 11,
      "metadata": {
        "id": "egUJ4L7ERjxr"
      },
      "outputs": [],
      "source": [
        "class_names = [\"T-shirt/top\", \"Trouser\",\"Pullover\",\"Dress\",\"Coat\",\"Sandal\",\"Shirt\",\"Sneaker\",\"Bag\",\"Ankle boot\"]"
      ]
    },
    {
      "cell_type": "code",
      "execution_count": 12,
      "metadata": {
        "colab": {
          "base_uri": "https://localhost:8080/",
          "height": 35
        },
        "id": "xA-Zu-MsSbab",
        "outputId": "0768c0b8-aa0b-454d-c6d4-95f09ce81ff5"
      },
      "outputs": [
        {
          "data": {
            "application/vnd.google.colaboratory.intrinsic+json": {
              "type": "string"
            },
            "text/plain": [
              "'Dress'"
            ]
          },
          "execution_count": 12,
          "metadata": {},
          "output_type": "execute_result"
        }
      ],
      "source": [
        "class_names[y_train_full[20]]"
      ]
    },
    {
      "cell_type": "code",
      "execution_count": 13,
      "metadata": {
        "colab": {
          "base_uri": "https://localhost:8080/"
        },
        "id": "pczmSfdaSujB",
        "outputId": "860574f6-53a0-4bed-f280-740440dd5367"
      },
      "outputs": [
        {
          "data": {
            "text/plain": [
              "array([[  0,   0,   0,   0,   0,   0,   0,  11, 142, 200, 106,   0,   0,\n",
              "          0,   0,   0,   0,   0,  85, 185, 112,   0,   0,   0,   0,   0,\n",
              "          0,   0],\n",
              "       [  0,   0,   0,   0,   0,   0, 152, 214, 217, 194, 236, 216, 187,\n",
              "        149, 135, 153, 211, 217, 231, 205, 217, 188,  34,   0,   0,   0,\n",
              "          0,   0],\n",
              "       [  0,   0,   0,   0,   0,  66, 185, 166, 180, 181, 190, 211, 221,\n",
              "        197, 146, 198, 206, 191, 168, 190, 172, 188, 175,   0,   0,   0,\n",
              "          0,   0],\n",
              "       [  0,   0,   0,   0,   0, 135, 153, 160, 175, 180, 170, 186, 187,\n",
              "        190, 188, 190, 187, 174, 195, 185, 174, 161, 175,  59,   0,   0,\n",
              "          0,   0],\n",
              "       [  0,   0,   0,   0,   0, 161, 147, 160, 170, 178, 177, 180, 168,\n",
              "        173, 174, 171, 185, 184, 185, 172, 171, 164, 174, 120,   0,   0,\n",
              "          0,   0],\n",
              "       [  0,   0,   0,   0,   2, 175, 146, 145, 168, 178, 181, 185, 180,\n",
              "        184, 178, 179, 187, 191, 193, 190, 181, 171, 172, 158,   0,   0,\n",
              "          0,   0],\n",
              "       [  0,   0,   0,   0,  35, 177, 155, 140, 151, 172, 191, 187, 186,\n",
              "        187, 186, 187, 182, 191, 194, 188, 180, 161, 161, 185,   0,   0,\n",
              "          0,   0],\n",
              "       [  0,   0,   0,   0,  59, 170, 153, 141, 120, 154, 160, 161, 172,\n",
              "        168, 166, 161, 165, 172, 170, 164, 139, 149, 162, 166,  21,   0,\n",
              "          0,   0],\n",
              "       [  0,   0,   0,   0,  79, 145, 160, 214, 123, 128, 153, 160, 164,\n",
              "        158, 157, 154, 155, 170, 165, 141, 195, 193, 152, 166,  61,   0,\n",
              "          0,   0],\n",
              "       [  0,   0,   0,   0, 100, 157, 225, 245, 175, 113, 174, 158, 158,\n",
              "        160, 155, 160, 164, 178, 188, 135, 185, 240, 201, 172, 108,   0,\n",
              "          0,   0],\n",
              "       [  0,   0,   0,   0,   0,  31, 174,  28, 126, 153, 166, 152, 158,\n",
              "        158, 160, 161, 157, 168, 191, 188,  18, 132, 159,   7,   0,   0,\n",
              "          0,   0],\n",
              "       [  0,   0,   0,   0,   0,   0,   0,   0,  82, 187, 159, 153, 157,\n",
              "        158, 162, 164, 164, 154, 187, 190,   0,   0,   0,   0,   0,   0,\n",
              "          0,   0],\n",
              "       [  0,   0,   0,   0,   1,   3,   5,   0,  37, 175, 158, 155, 162,\n",
              "        158, 160, 162, 165, 153, 177, 205,   0,   0,   3,   3,   0,   0,\n",
              "          0,   0],\n",
              "       [  0,   0,   0,   0,   0,   0,   1,   0,  25, 175, 152, 160, 158,\n",
              "        161, 160, 164, 164, 161, 166, 200,   0,   0,   1,   0,   0,   0,\n",
              "          0,   0],\n",
              "       [  0,   0,   0,   0,   0,   0,   4,   0,  30, 171, 147, 164, 155,\n",
              "        165, 161, 165, 162, 170, 164, 162,   0,   0,   2,   0,   0,   0,\n",
              "          0,   0],\n",
              "       [  0,   0,   0,   0,   0,   0,   4,   0,  57, 166, 155, 164, 166,\n",
              "        161, 161, 164, 167, 165, 165, 162,  28,   0,   3,   0,   0,   0,\n",
              "          0,   0],\n",
              "       [  0,   0,   0,   0,   0,   0,   3,   0, 114, 161, 161, 166, 159,\n",
              "        168, 161, 161, 172, 162, 165, 171,  50,   0,   5,   0,   0,   0,\n",
              "          0,   0],\n",
              "       [  0,   0,   0,   0,   0,   0,   1,   0, 149, 157, 167, 172, 159,\n",
              "        172, 164, 161, 172, 170, 160, 171,  89,   0,   4,   0,   0,   0,\n",
              "          0,   0],\n",
              "       [  0,   0,   0,   0,   0,   2,   0,   4, 171, 164, 166, 173, 159,\n",
              "        179, 166, 160, 174, 167, 162, 166, 128,   0,   2,   0,   0,   0,\n",
              "          0,   0],\n",
              "       [  0,   0,   0,   0,   0,   3,   0,  18, 152, 173, 160, 179, 154,\n",
              "        181, 166, 164, 175, 170, 166, 170, 164,   0,   0,   1,   0,   0,\n",
              "          0,   0],\n",
              "       [  0,   0,   0,   0,   0,   4,   0,  47, 165, 172, 167, 185, 153,\n",
              "        187, 173, 165, 174, 179, 166, 166, 158,   5,   0,   3,   0,   0,\n",
              "          0,   0],\n",
              "       [  0,   0,   0,   0,   0,   4,   0,  87, 180, 162, 179, 179, 157,\n",
              "        191, 182, 165, 168, 190, 173, 165, 166,  20,   0,   4,   0,   0,\n",
              "          0,   0],\n",
              "       [  0,   0,   0,   0,   0,   4,   0, 105, 187, 157, 194, 175, 161,\n",
              "        190, 184, 170, 158, 205, 177, 168, 171,  44,   0,   4,   0,   0,\n",
              "          0,   0],\n",
              "       [  0,   0,   0,   0,   0,   5,   0, 138, 181, 158, 205, 160, 167,\n",
              "        190, 198, 167, 152, 218, 186, 170, 172,  57,   0,   5,   0,   0,\n",
              "          0,   0],\n",
              "       [  0,   0,   0,   0,   0,   5,   0, 135, 174, 167, 199, 155, 166,\n",
              "        201, 219, 165, 158, 218, 188, 167, 175,  56,   0,   7,   0,   0,\n",
              "          0,   0],\n",
              "       [  0,   0,   0,   0,   0,   5,   0, 129, 171, 172, 177, 153, 159,\n",
              "        206, 216, 148, 157, 206, 190, 165, 175,  48,   0,   5,   0,   0,\n",
              "          0,   0],\n",
              "       [  0,   0,   0,   0,   0,   5,   0, 167, 187, 182, 198, 194, 200,\n",
              "        226, 240, 184, 206, 255, 197, 178, 179,  42,   0,   5,   0,   0,\n",
              "          0,   0],\n",
              "       [  0,   0,   0,   0,   0,   3,   0, 115, 135, 113, 106,  85,  82,\n",
              "        108, 133,  83,  90, 121, 120, 110, 158,  18,   0,   3,   0,   0,\n",
              "          0,   0]], dtype=uint8)"
            ]
          },
          "execution_count": 13,
          "metadata": {},
          "output_type": "execute_result"
        }
      ],
      "source": [
        "X_train_full[10]"
      ]
    },
    {
      "cell_type": "code",
      "execution_count": 14,
      "metadata": {
        "id": "Daj1TS88S0Iq"
      },
      "outputs": [],
      "source": [
        "X_train_n=X_train_full/255.\n",
        "X_test_n=X_test/255."
      ]
    },
    {
      "cell_type": "code",
      "execution_count": 15,
      "metadata": {
        "id": "FHYNX6M4TqVP"
      },
      "outputs": [],
      "source": [
        "X_valid, X_train = X_train_n[:5000],X_train_n[5000:]\n",
        "y_valid, y_train = y_train_full[:5000], y_train_full[5000:]\n",
        "X_test = X_test_n"
      ]
    },
    {
      "cell_type": "code",
      "execution_count": 16,
      "metadata": {
        "id": "jXm6hGNpUsiq"
      },
      "outputs": [],
      "source": [
        "np.random.seed(42)\n",
        "tf.random.set_seed(42)"
      ]
    },
    {
      "cell_type": "code",
      "execution_count": 17,
      "metadata": {
        "id": "d5hy9eQAV82c"
      },
      "outputs": [],
      "source": [
        "model = keras.models.Sequential()\n",
        "model.add(keras.layers.Flatten(input_shape=[28,28]))\n",
        "model.add(keras.layers.Dense(300, activation=\"relu\"))\n",
        "model.add(keras.layers.Dense(100, activation=\"relu\"))\n",
        "model.add(keras.layers.Dense(10, activation=\"softmax\"))"
      ]
    },
    {
      "cell_type": "code",
      "execution_count": 18,
      "metadata": {
        "colab": {
          "base_uri": "https://localhost:8080/"
        },
        "id": "WeK_Q4ViXeVz",
        "outputId": "31cc38cc-ab1a-44d9-dd50-93209342d6a6"
      },
      "outputs": [
        {
          "name": "stdout",
          "output_type": "stream",
          "text": [
            "Model: \"sequential\"\n",
            "_________________________________________________________________\n",
            " Layer (type)                Output Shape              Param #   \n",
            "=================================================================\n",
            " flatten (Flatten)           (None, 784)               0         \n",
            "                                                                 \n",
            " dense (Dense)               (None, 300)               235500    \n",
            "                                                                 \n",
            " dense_1 (Dense)             (None, 100)               30100     \n",
            "                                                                 \n",
            " dense_2 (Dense)             (None, 10)                1010      \n",
            "                                                                 \n",
            "=================================================================\n",
            "Total params: 266,610\n",
            "Trainable params: 266,610\n",
            "Non-trainable params: 0\n",
            "_________________________________________________________________\n"
          ]
        }
      ],
      "source": [
        "model.summary()"
      ]
    },
    {
      "cell_type": "code",
      "execution_count": 19,
      "metadata": {
        "colab": {
          "base_uri": "https://localhost:8080/",
          "height": 466
        },
        "id": "ifND6eKPXt7i",
        "outputId": "77565495-02dc-42b2-d314-484c50ce34cd"
      },
      "outputs": [
        {
          "data": {
            "image/png": "[encoded data removed]",
            "text/plain": [
              "<IPython.core.display.Image object>"
            ]
          },
          "execution_count": 19,
          "metadata": {},
          "output_type": "execute_result"
        }
      ],
      "source": [
        "import pydot\n",
        "keras.utils.plot_model(model)"
      ]
    },
    {
      "cell_type": "code",
      "execution_count": 20,
      "metadata": {
        "id": "94XTD3_GYeQL"
      },
      "outputs": [],
      "source": [
        "weights, biases = model.layers[1].get_weights()"
      ]
    },
    {
      "cell_type": "code",
      "execution_count": 21,
      "metadata": {
        "colab": {
          "base_uri": "https://localhost:8080/"
        },
        "id": "e2OOTlBsYrNj",
        "outputId": "92cec98d-25b3-404e-d9af-be665922bb11"
      },
      "outputs": [
        {
          "data": {
            "text/plain": [
              "array([[-0.03153627,  0.06352425,  0.04009376, ...,  0.01287328,\n",
              "         0.03328545, -0.02455487],\n",
              "       [-0.05648976,  0.06182958, -0.00062673, ..., -0.0268886 ,\n",
              "        -0.0618376 ,  0.06414017],\n",
              "       [-0.06138977, -0.07383889, -0.00350867, ..., -0.06276578,\n",
              "         0.04859611, -0.00463471],\n",
              "       ...,\n",
              "       [-0.02695503,  0.03312498,  0.0145132 , ...,  0.02299117,\n",
              "         0.07285772,  0.00944269],\n",
              "       [ 0.0250873 , -0.02961416,  0.00950449, ...,  0.07119313,\n",
              "         0.04654539, -0.05118761],\n",
              "       [-0.03869719,  0.00706518, -0.02399875, ...,  0.04518522,\n",
              "         0.07008074, -0.01998797]], dtype=float32)"
            ]
          },
          "execution_count": 21,
          "metadata": {},
          "output_type": "execute_result"
        }
      ],
      "source": [
        "weights"
      ]
    },
    {
      "cell_type": "code",
      "execution_count": 22,
      "metadata": {
        "colab": {
          "base_uri": "https://localhost:8080/"
        },
        "id": "uHAN-SJDY3Gn",
        "outputId": "2aca155d-94f2-4953-b88a-b89d3262b543"
      },
      "outputs": [
        {
          "data": {
            "text/plain": [
              "(784, 300)"
            ]
          },
          "execution_count": 22,
          "metadata": {},
          "output_type": "execute_result"
        }
      ],
      "source": [
        "weights.shape"
      ]
    },
    {
      "cell_type": "code",
      "execution_count": 23,
      "metadata": {
        "colab": {
          "base_uri": "https://localhost:8080/"
        },
        "id": "taIuXpo_Y9fL",
        "outputId": "4bd31fe0-e841-45e0-bf0c-86df9bb57b3f"
      },
      "outputs": [
        {
          "data": {
            "text/plain": [
              "array([0., 0., 0., 0., 0., 0., 0., 0., 0., 0., 0., 0., 0., 0., 0., 0., 0.,\n",
              "       0., 0., 0., 0., 0., 0., 0., 0., 0., 0., 0., 0., 0., 0., 0., 0., 0.,\n",
              "       0., 0., 0., 0., 0., 0., 0., 0., 0., 0., 0., 0., 0., 0., 0., 0., 0.,\n",
              "       0., 0., 0., 0., 0., 0., 0., 0., 0., 0., 0., 0., 0., 0., 0., 0., 0.,\n",
              "       0., 0., 0., 0., 0., 0., 0., 0., 0., 0., 0., 0., 0., 0., 0., 0., 0.,\n",
              "       0., 0., 0., 0., 0., 0., 0., 0., 0., 0., 0., 0., 0., 0., 0., 0., 0.,\n",
              "       0., 0., 0., 0., 0., 0., 0., 0., 0., 0., 0., 0., 0., 0., 0., 0., 0.,\n",
              "       0., 0., 0., 0., 0., 0., 0., 0., 0., 0., 0., 0., 0., 0., 0., 0., 0.,\n",
              "       0., 0., 0., 0., 0., 0., 0., 0., 0., 0., 0., 0., 0., 0., 0., 0., 0.,\n",
              "       0., 0., 0., 0., 0., 0., 0., 0., 0., 0., 0., 0., 0., 0., 0., 0., 0.,\n",
              "       0., 0., 0., 0., 0., 0., 0., 0., 0., 0., 0., 0., 0., 0., 0., 0., 0.,\n",
              "       0., 0., 0., 0., 0., 0., 0., 0., 0., 0., 0., 0., 0., 0., 0., 0., 0.,\n",
              "       0., 0., 0., 0., 0., 0., 0., 0., 0., 0., 0., 0., 0., 0., 0., 0., 0.,\n",
              "       0., 0., 0., 0., 0., 0., 0., 0., 0., 0., 0., 0., 0., 0., 0., 0., 0.,\n",
              "       0., 0., 0., 0., 0., 0., 0., 0., 0., 0., 0., 0., 0., 0., 0., 0., 0.,\n",
              "       0., 0., 0., 0., 0., 0., 0., 0., 0., 0., 0., 0., 0., 0., 0., 0., 0.,\n",
              "       0., 0., 0., 0., 0., 0., 0., 0., 0., 0., 0., 0., 0., 0., 0., 0., 0.,\n",
              "       0., 0., 0., 0., 0., 0., 0., 0., 0., 0., 0.], dtype=float32)"
            ]
          },
          "execution_count": 23,
          "metadata": {},
          "output_type": "execute_result"
        }
      ],
      "source": [
        "biases"
      ]
    },
    {
      "cell_type": "code",
      "execution_count": 24,
      "metadata": {
        "colab": {
          "base_uri": "https://localhost:8080/"
        },
        "id": "0yiAzLctY_W8",
        "outputId": "fcf3efa0-1899-45e0-bc26-d9b51659fc24"
      },
      "outputs": [
        {
          "data": {
            "text/plain": [
              "(300,)"
            ]
          },
          "execution_count": 24,
          "metadata": {},
          "output_type": "execute_result"
        }
      ],
      "source": [
        "biases.shape"
      ]
    },
    {
      "cell_type": "code",
      "execution_count": 25,
      "metadata": {
        "id": "LYYVm2e5ZDnj"
      },
      "outputs": [],
      "source": [
        "model.compile(loss=\"sparse_categorical_crossentropy\",\n",
        "              optimizer=\"sgd\",\n",
        "              metrics=[\"accuracy\"])"
      ]
    },
    {
      "cell_type": "code",
      "execution_count": 26,
      "metadata": {
        "colab": {
          "base_uri": "https://localhost:8080/"
        },
        "id": "Im1_jJlmaYGf",
        "outputId": "892b6dc1-b32d-4752-b290-0ec4ce21e84e"
      },
      "outputs": [
        {
          "name": "stdout",
          "output_type": "stream",
          "text": [
            "Epoch 1/30\n",
            "1719/1719 [==============================] - 9s 5ms/step - loss: 0.7145 - accuracy: 0.7665 - val_loss: 0.5236 - val_accuracy: 0.8224\n",
            "Epoch 2/30\n",
            "1719/1719 [==============================] - 7s 4ms/step - loss: 0.4867 - accuracy: 0.8291 - val_loss: 0.4382 - val_accuracy: 0.8532\n",
            "Epoch 3/30\n",
            "1719/1719 [==============================] - 8s 5ms/step - loss: 0.4409 - accuracy: 0.8445 - val_loss: 0.5404 - val_accuracy: 0.7968\n",
            "Epoch 4/30\n",
            "1719/1719 [==============================] - 7s 4ms/step - loss: 0.4144 - accuracy: 0.8554 - val_loss: 0.3975 - val_accuracy: 0.8622\n",
            "Epoch 5/30\n",
            "1719/1719 [==============================] - 8s 5ms/step - loss: 0.3956 - accuracy: 0.8614 - val_loss: 0.3773 - val_accuracy: 0.8686\n",
            "Epoch 6/30\n",
            "1719/1719 [==============================] - 7s 4ms/step - loss: 0.3773 - accuracy: 0.8678 - val_loss: 0.3744 - val_accuracy: 0.8724\n",
            "Epoch 7/30\n",
            "1719/1719 [==============================] - 7s 4ms/step - loss: 0.3642 - accuracy: 0.8712 - val_loss: 0.3672 - val_accuracy: 0.8730\n",
            "Epoch 8/30\n",
            "1719/1719 [==============================] - 8s 4ms/step - loss: 0.3530 - accuracy: 0.8728 - val_loss: 0.3819 - val_accuracy: 0.8622\n",
            "Epoch 9/30\n",
            "1719/1719 [==============================] - 7s 4ms/step - loss: 0.3421 - accuracy: 0.8788 - val_loss: 0.3491 - val_accuracy: 0.8796\n",
            "Epoch 10/30\n",
            "1719/1719 [==============================] - 8s 4ms/step - loss: 0.3327 - accuracy: 0.8809 - val_loss: 0.3517 - val_accuracy: 0.8752\n",
            "Epoch 11/30\n",
            "1719/1719 [==============================] - 7s 4ms/step - loss: 0.3241 - accuracy: 0.8843 - val_loss: 0.3470 - val_accuracy: 0.8758\n",
            "Epoch 12/30\n",
            "1719/1719 [==============================] - 8s 5ms/step - loss: 0.3156 - accuracy: 0.8863 - val_loss: 0.3318 - val_accuracy: 0.8818\n",
            "Epoch 13/30\n",
            "1719/1719 [==============================] - 7s 4ms/step - loss: 0.3087 - accuracy: 0.8892 - val_loss: 0.3329 - val_accuracy: 0.8824\n",
            "Epoch 14/30\n",
            "1719/1719 [==============================] - 7s 4ms/step - loss: 0.3027 - accuracy: 0.8905 - val_loss: 0.3554 - val_accuracy: 0.8726\n",
            "Epoch 15/30\n",
            "1719/1719 [==============================] - 8s 5ms/step - loss: 0.2953 - accuracy: 0.8940 - val_loss: 0.3293 - val_accuracy: 0.8792\n",
            "Epoch 16/30\n",
            "1719/1719 [==============================] - 7s 4ms/step - loss: 0.2901 - accuracy: 0.8963 - val_loss: 0.3126 - val_accuracy: 0.8894\n",
            "Epoch 17/30\n",
            "1719/1719 [==============================] - 9s 5ms/step - loss: 0.2846 - accuracy: 0.8979 - val_loss: 0.3508 - val_accuracy: 0.8758\n",
            "Epoch 18/30\n",
            "1719/1719 [==============================] - 7s 4ms/step - loss: 0.2783 - accuracy: 0.8999 - val_loss: 0.3190 - val_accuracy: 0.8896\n",
            "Epoch 19/30\n",
            "1719/1719 [==============================] - 8s 5ms/step - loss: 0.2740 - accuracy: 0.9008 - val_loss: 0.3155 - val_accuracy: 0.8872\n",
            "Epoch 20/30\n",
            "1719/1719 [==============================] - 8s 5ms/step - loss: 0.2688 - accuracy: 0.9037 - val_loss: 0.3302 - val_accuracy: 0.8808\n",
            "Epoch 21/30\n",
            "1719/1719 [==============================] - 7s 4ms/step - loss: 0.2638 - accuracy: 0.9050 - val_loss: 0.3118 - val_accuracy: 0.8898\n",
            "Epoch 22/30\n",
            "1719/1719 [==============================] - 8s 5ms/step - loss: 0.2593 - accuracy: 0.9068 - val_loss: 0.2994 - val_accuracy: 0.8942\n",
            "Epoch 23/30\n",
            "1719/1719 [==============================] - 7s 4ms/step - loss: 0.2547 - accuracy: 0.9082 - val_loss: 0.3048 - val_accuracy: 0.8934\n",
            "Epoch 24/30\n",
            "1719/1719 [==============================] - 9s 5ms/step - loss: 0.2507 - accuracy: 0.9095 - val_loss: 0.3072 - val_accuracy: 0.8908\n",
            "Epoch 25/30\n",
            "1719/1719 [==============================] - 7s 4ms/step - loss: 0.2464 - accuracy: 0.9110 - val_loss: 0.3044 - val_accuracy: 0.8916\n",
            "Epoch 26/30\n",
            "1719/1719 [==============================] - 7s 4ms/step - loss: 0.2417 - accuracy: 0.9131 - val_loss: 0.3055 - val_accuracy: 0.8898\n",
            "Epoch 27/30\n",
            "1719/1719 [==============================] - 8s 5ms/step - loss: 0.2386 - accuracy: 0.9140 - val_loss: 0.2986 - val_accuracy: 0.8946\n",
            "Epoch 28/30\n",
            "1719/1719 [==============================] - 7s 4ms/step - loss: 0.2352 - accuracy: 0.9158 - val_loss: 0.3035 - val_accuracy: 0.8914\n",
            "Epoch 29/30\n",
            "1719/1719 [==============================] - 8s 5ms/step - loss: 0.2306 - accuracy: 0.9168 - val_loss: 0.3130 - val_accuracy: 0.8886\n",
            "Epoch 30/30\n",
            "1719/1719 [==============================] - 7s 4ms/step - loss: 0.2273 - accuracy: 0.9184 - val_loss: 0.3109 - val_accuracy: 0.8904\n"
          ]
        }
      ],
      "source": [
        "model_history = model.fit(X_train, y_train, epochs=30,\n",
        "                          validation_data=(X_valid,y_valid))"
      ]
    },
    {
      "cell_type": "code",
      "execution_count": 27,
      "metadata": {
        "colab": {
          "base_uri": "https://localhost:8080/"
        },
        "id": "ynBXvpNScQ7g",
        "outputId": "6871ee55-efb2-46aa-e780-6681649ecca4"
      },
      "outputs": [
        {
          "data": {
            "text/plain": [
              "{'verbose': 1, 'epochs': 30, 'steps': 1719}"
            ]
          },
          "execution_count": 27,
          "metadata": {},
          "output_type": "execute_result"
        }
      ],
      "source": [
        "model_history.params"
      ]
    },
    {
      "cell_type": "code",
      "execution_count": 28,
      "metadata": {
        "colab": {
          "base_uri": "https://localhost:8080/"
        },
        "id": "gv1aJilsd4et",
        "outputId": "c8627e52-adc1-451e-b47a-f97bc38556c9"
      },
      "outputs": [
        {
          "data": {
            "text/plain": [
              "{'loss': [0.7145342826843262,\n",
              "  0.4867340922355652,\n",
              "  0.44091832637786865,\n",
              "  0.4143580198287964,\n",
              "  0.39556989073753357,\n",
              "  0.37729644775390625,\n",
              "  0.3642185628414154,\n",
              "  0.35301071405410767,\n",
              "  0.34213799238204956,\n",
              "  0.3326829969882965,\n",
              "  0.32411226630210876,\n",
              "  0.315591037273407,\n",
              "  0.3086939752101898,\n",
              "  0.30270540714263916,\n",
              "  0.295301228761673,\n",
              "  0.2900814712047577,\n",
              "  0.284622460603714,\n",
              "  0.2783234417438507,\n",
              "  0.27401381731033325,\n",
              "  0.26880258321762085,\n",
              "  0.2637675702571869,\n",
              "  0.25930798053741455,\n",
              "  0.2546694576740265,\n",
              "  0.25067493319511414,\n",
              "  0.24638856947422028,\n",
              "  0.2417047768831253,\n",
              "  0.23858873546123505,\n",
              "  0.23520591855049133,\n",
              "  0.2305622547864914,\n",
              "  0.22731883823871613],\n",
              " 'accuracy': [0.7665454745292664,\n",
              "  0.8291272521018982,\n",
              "  0.8445090651512146,\n",
              "  0.855436384677887,\n",
              "  0.8614181876182556,\n",
              "  0.8678181767463684,\n",
              "  0.8712363839149475,\n",
              "  0.8728363513946533,\n",
              "  0.8787636160850525,\n",
              "  0.8808727264404297,\n",
              "  0.8842545747756958,\n",
              "  0.8862909078598022,\n",
              "  0.88919997215271,\n",
              "  0.8905272483825684,\n",
              "  0.8940363526344299,\n",
              "  0.8962545394897461,\n",
              "  0.8979454636573792,\n",
              "  0.8999454379081726,\n",
              "  0.9007818102836609,\n",
              "  0.9037091135978699,\n",
              "  0.9050182104110718,\n",
              "  0.9068182110786438,\n",
              "  0.9081818461418152,\n",
              "  0.9094545245170593,\n",
              "  0.9109636545181274,\n",
              "  0.9130727052688599,\n",
              "  0.9139817953109741,\n",
              "  0.9157999753952026,\n",
              "  0.9168363809585571,\n",
              "  0.91839998960495],\n",
              " 'val_loss': [0.5236020088195801,\n",
              "  0.43823671340942383,\n",
              "  0.5403919219970703,\n",
              "  0.3974609076976776,\n",
              "  0.37729254364967346,\n",
              "  0.3743533194065094,\n",
              "  0.3672194480895996,\n",
              "  0.3818575441837311,\n",
              "  0.3491172194480896,\n",
              "  0.3516714572906494,\n",
              "  0.34704649448394775,\n",
              "  0.3317582905292511,\n",
              "  0.3328652083873749,\n",
              "  0.3554496467113495,\n",
              "  0.32925814390182495,\n",
              "  0.31257760524749756,\n",
              "  0.35078495740890503,\n",
              "  0.31898820400238037,\n",
              "  0.3154735267162323,\n",
              "  0.3302132189273834,\n",
              "  0.31178760528564453,\n",
              "  0.29938754439353943,\n",
              "  0.3047630190849304,\n",
              "  0.3071991205215454,\n",
              "  0.3043716251850128,\n",
              "  0.3054676055908203,\n",
              "  0.2986162006855011,\n",
              "  0.30349200963974,\n",
              "  0.3129686713218689,\n",
              "  0.3109336197376251],\n",
              " 'val_accuracy': [0.8223999738693237,\n",
              "  0.8532000184059143,\n",
              "  0.7968000173568726,\n",
              "  0.8622000217437744,\n",
              "  0.8686000108718872,\n",
              "  0.8723999857902527,\n",
              "  0.8730000257492065,\n",
              "  0.8622000217437744,\n",
              "  0.8795999884605408,\n",
              "  0.8751999735832214,\n",
              "  0.8758000135421753,\n",
              "  0.8817999958992004,\n",
              "  0.8823999762535095,\n",
              "  0.8726000189781189,\n",
              "  0.8791999816894531,\n",
              "  0.8894000053405762,\n",
              "  0.8758000135421753,\n",
              "  0.8895999789237976,\n",
              "  0.8871999979019165,\n",
              "  0.8808000087738037,\n",
              "  0.8898000121116638,\n",
              "  0.8942000269889832,\n",
              "  0.8934000134468079,\n",
              "  0.8907999992370605,\n",
              "  0.8916000127792358,\n",
              "  0.8898000121116638,\n",
              "  0.894599974155426,\n",
              "  0.8913999795913696,\n",
              "  0.8885999917984009,\n",
              "  0.8903999924659729]}"
            ]
          },
          "execution_count": 28,
          "metadata": {},
          "output_type": "execute_result"
        }
      ],
      "source": [
        "model_history.history"
      ]
    },
    {
      "cell_type": "code",
      "execution_count": 29,
      "metadata": {
        "colab": {
          "base_uri": "https://localhost:8080/",
          "height": 451
        },
        "id": "QDYLQK-2eCiR",
        "outputId": "43f4e03f-fb81-44fa-fd23-87b570acc5e1"
      },
      "outputs": [
        {
          "data": {
            "image/png": "[encoded data removed]",
            "text/plain": [
              "<Figure size 800x500 with 1 Axes>"
            ]
          },
          "metadata": {},
          "output_type": "display_data"
        }
      ],
      "source": [
        "pd.DataFrame(model_history.history).plot(figsize=(8,5))\n",
        "plt.grid(True)\n",
        "plt.gca().set_ylim(0,1)\n",
        "plt.show()\n"
      ]
    },
    {
      "cell_type": "code",
      "execution_count": 30,
      "metadata": {
        "colab": {
          "base_uri": "https://localhost:8080/"
        },
        "id": "GOtRINE5ez75",
        "outputId": "0fd57c8e-e9ac-49b1-d98f-da4f70c0eb91"
      },
      "outputs": [
        {
          "name": "stdout",
          "output_type": "stream",
          "text": [
            "313/313 [==============================] - 1s 3ms/step - loss: 0.3411 - accuracy: 0.8783\n"
          ]
        },
        {
          "data": {
            "text/plain": [
              "[0.34105879068374634, 0.8783000111579895]"
            ]
          },
          "execution_count": 30,
          "metadata": {},
          "output_type": "execute_result"
        }
      ],
      "source": [
        "model.evaluate(X_test, y_test)"
      ]
    },
    {
      "cell_type": "code",
      "execution_count": 32,
      "metadata": {
        "id": "1kkSIF6xhTOx"
      },
      "outputs": [],
      "source": [
        "X_new = X_test[:3]"
      ]
    },
    {
      "cell_type": "code",
      "execution_count": 39,
      "metadata": {
        "colab": {
          "base_uri": "https://localhost:8080/"
        },
        "id": "KwERnevEjoUJ",
        "outputId": "520ee22e-6476-4675-be8c-ea0445427bd2"
      },
      "outputs": [
        {
          "name": "stdout",
          "output_type": "stream",
          "text": [
            "1/1 [==============================] - 0s 34ms/step\n"
          ]
        },
        {
          "data": {
            "text/plain": [
              "array([[0.  , 0.  , 0.  , 0.  , 0.  , 0.01, 0.  , 0.02, 0.  , 0.98],\n",
              "       [0.  , 0.  , 1.  , 0.  , 0.  , 0.  , 0.  , 0.  , 0.  , 0.  ],\n",
              "       [0.  , 1.  , 0.  , 0.  , 0.  , 0.  , 0.  , 0.  , 0.  , 0.  ]],\n",
              "      dtype=float32)"
            ]
          },
          "execution_count": 39,
          "metadata": {},
          "output_type": "execute_result"
        }
      ],
      "source": [
        "y_proba = model.predict(X_new)\n",
        "y_proba.round(2)"
      ]
    },
    {
      "cell_type": "code",
      "execution_count": 43,
      "metadata": {
        "colab": {
          "base_uri": "https://localhost:8080/"
        },
        "id": "YCKztbvPljZb",
        "outputId": "5b41f97b-21b7-428d-885d-ca95e520653d"
      },
      "outputs": [
        {
          "data": {
            "text/plain": [
              "array([9, 2, 1])"
            ]
          },
          "execution_count": 43,
          "metadata": {},
          "output_type": "execute_result"
        }
      ],
      "source": [
        "y_pred = np.argmax(y_proba, axis=1)\n",
        "y_pred"
      ]
    },
    {
      "cell_type": "code",
      "execution_count": 44,
      "metadata": {
        "colab": {
          "base_uri": "https://localhost:8080/"
        },
        "id": "j10IxgepltFC",
        "outputId": "e3d54e3a-cdc7-41c3-f255-477b3f8e9aaf"
      },
      "outputs": [
        {
          "data": {
            "text/plain": [
              "array(['Ankle boot', 'Pullover', 'Trouser'], dtype='<U11')"
            ]
          },
          "execution_count": 44,
          "metadata": {},
          "output_type": "execute_result"
        }
      ],
      "source": [
        "np.array(class_names)[y_pred]"
      ]
    },
    {
      "cell_type": "code",
      "execution_count": 45,
      "metadata": {
        "colab": {
          "base_uri": "https://localhost:8080/",
          "height": 447
        },
        "id": "QyGl9g-qnPtb",
        "outputId": "5cf16ccd-0917-4f14-904e-d997ed6ccbe1"
      },
      "outputs": [
        {
          "name": "stdout",
          "output_type": "stream",
          "text": [
            "AxesImage(size=(28, 28))\n"
          ]
        },
        {
          "data": {
            "image/png": "[encoded data removed]",
            "text/plain": [
              "<Figure size 640x480 with 1 Axes>"
            ]
          },
          "metadata": {},
          "output_type": "display_data"
        }
      ],
      "source": [
        "print(plt.imshow(X_test[0]))"
      ]
    },
    {
      "cell_type": "code",
      "execution_count": 46,
      "metadata": {
        "colab": {
          "base_uri": "https://localhost:8080/",
          "height": 447
        },
        "id": "8QztjczdnjcD",
        "outputId": "55b8ad1b-f6ab-46fb-e102-d09ae001f9b4"
      },
      "outputs": [
        {
          "name": "stdout",
          "output_type": "stream",
          "text": [
            "AxesImage(size=(28, 28))\n"
          ]
        },
        {
          "data": {
            "image/png": "[encoded data removed]",
            "text/plain": [
              "<Figure size 640x480 with 1 Axes>"
            ]
          },
          "metadata": {},
          "output_type": "display_data"
        }
      ],
      "source": [
        "print(plt.imshow(X_test[1]))"
      ]
    },
    {
      "cell_type": "code",
      "execution_count": 47,
      "metadata": {
        "colab": {
          "base_uri": "https://localhost:8080/",
          "height": 447
        },
        "id": "ayuRchy1ntZw",
        "outputId": "fe005dac-150e-4da8-fe2a-ef8ddfa41140"
      },
      "outputs": [
        {
          "name": "stdout",
          "output_type": "stream",
          "text": [
            "AxesImage(size=(28, 28))\n"
          ]
        },
        {
          "data": {
            "image/png": "[encoded data removed]",
            "text/plain": [
              "<Figure size 640x480 with 1 Axes>"
            ]
          },
          "metadata": {},
          "output_type": "display_data"
        }
      ],
      "source": [
        "print(plt.imshow(X_test[2]))"
      ]
    },
    {
      "cell_type": "code",
      "execution_count": null,
      "metadata": {
        "id": "uUBgoIDynvXw"
      },
      "outputs": [],
      "source": []
    }
  ],
  "metadata": {
    "colab": {
      "provenance": []
    },
    "kernelspec": {
      "display_name": "Python 3",
      "name": "python3"
    },
    "language_info": {
      "name": "python"
    }
  },
  "nbformat": 4,
  "nbformat_minor": 0
}
